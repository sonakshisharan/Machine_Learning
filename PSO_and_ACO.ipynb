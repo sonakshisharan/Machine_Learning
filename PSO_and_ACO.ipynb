{
  "nbformat": 4,
  "nbformat_minor": 0,
  "metadata": {
    "colab": {
      "provenance": [],
      "include_colab_link": true
    },
    "kernelspec": {
      "name": "python3",
      "display_name": "Python 3"
    },
    "language_info": {
      "name": "python"
    }
  },
  "cells": [
    {
      "cell_type": "markdown",
      "metadata": {
        "id": "view-in-github",
        "colab_type": "text"
      },
      "source": [
        "<a href=\"https://colab.research.google.com/github/sonakshisharan/Machine_Learning/blob/main/PSO_and_ACO.ipynb\" target=\"_parent\"><img src=\"https://colab.research.google.com/assets/colab-badge.svg\" alt=\"Open In Colab\"/></a>"
      ]
    },
    {
      "cell_type": "code",
      "execution_count": null,
      "metadata": {
        "colab": {
          "base_uri": "https://localhost:8080/"
        },
        "id": "s0S7qpbkg6nI",
        "outputId": "79971340-6878-44c3-a2eb-a89c9757aa50"
      },
      "outputs": [
        {
          "output_type": "stream",
          "name": "stdout",
          "text": [
            "Mounted at /content/drive\n"
          ]
        }
      ],
      "source": [
        "from google.colab import drive\n",
        "drive.mount('/content/drive')"
      ]
    },
    {
      "cell_type": "code",
      "source": [
        "!unzip drive/MyDrive/Interpolated\\ Data-10K\\ DATA\\ POINTS\\ -\\ 4d,4e,6b.zip"
      ],
      "metadata": {
        "colab": {
          "base_uri": "https://localhost:8080/"
        },
        "id": "_hGETZx8h51k",
        "outputId": "a558c259-6a1b-4ded-929b-6cf1a9a24abd"
      },
      "execution_count": null,
      "outputs": [
        {
          "output_type": "stream",
          "name": "stdout",
          "text": [
            "Archive:  drive/MyDrive/Interpolated Data-10K DATA POINTS - 4d,4e,6b.zip\n",
            "  inflating: Interpolated Data/4d/interpolated_blue4d_6L.csv  \n",
            "  inflating: Interpolated Data/4d/interpolated_red4d_12L.csv  \n",
            "  inflating: Interpolated Data/4d/interpolated_black4d_18L.csv  \n",
            "  inflating: Interpolated Data/4d/interpolated_green4d_3L.csv  \n",
            "  inflating: Interpolated Data/6b/interpolated_black6b_Ra-ct charge.csv  \n",
            "  inflating: Interpolated Data/6b/interpolated_blue6b_R0 discharge.csv  \n",
            "  inflating: Interpolated Data/6b/interpolated_red6b_Ra-ct discharge.csv  \n",
            "  inflating: Interpolated Data/6b/interpolated_green6b_R0 charge.csv  \n",
            "  inflating: Interpolated Data/4e/interpolated_red4e_12L.csv  \n",
            "  inflating: Interpolated Data/4e/interpolated_green4e_3L.csv  \n",
            "  inflating: Interpolated Data/4e/interpolated_blue4e_6L.csv  \n",
            "  inflating: Interpolated Data/4e/interpolated_black4e_18L.csv  \n"
          ]
        }
      ]
    },
    {
      "cell_type": "code",
      "source": [
        "# PSO Algorithm\n",
        "import numpy as np\n",
        "\n",
        "# VRFB system parameters\n",
        "num_cells = 20\n",
        "power_capacity = 1000  # 1 kW\n",
        "energy_capacity = 6000  # 6 kWh\n",
        "voltage_range = (20, 32)  # V\n",
        "max_current = 60  # A\n",
        "flow_rate_range = (3, 18)  # L/min\n",
        "\n",
        "# PSO parameters\n",
        "num_particles = 50\n",
        "num_iterations = 100\n",
        "c1 = 1.5\n",
        "c2 = 1.6\n",
        "w = 0.5\n",
        "\n",
        "# Initialize particles\n",
        "particles = np.random.uniform(flow_rate_range[0], flow_rate_range[1], (num_particles, 2))\n",
        "velocities = np.zeros_like(particles)\n",
        "\n",
        "# Objective function\n",
        "def objective_function(x, y, stack_current, SOC):\n",
        "    flow_rate = np.sqrt(x**2 + y**2)  # Calculate flow rate from x and y coordinates\n",
        "    # Calculate internal resistance, pump power, and system power loss\n",
        "    #for the flow rate = 3L/min\n",
        "    Rint = 0.126\n",
        "    Ppump = 100\n",
        "    Ploss_VRFB = stack_current**2 * Rint + Ppump\n",
        "    return Ploss_VRFB\n",
        "\n",
        "# PSO loop\n",
        "pbest = np.inf * np.ones((num_particles, 2))\n",
        "gbest = np.inf\n",
        "for iteration in range(num_iterations):\n",
        "    for i in range(num_particles):\n",
        "        x, y = particles[i, 0], particles[i, 1]\n",
        "        stack_current = 45\n",
        "        SOC<=0.1\n",
        "\n",
        "        Ploss = objective_function(x, y, stack_current, SOC)\n",
        "\n",
        "        if Ploss < pbest[i].sum():\n",
        "            pbest[i] = np.array([x, y])\n",
        "\n",
        "        if Ploss < gbest:\n",
        "            gbest = Ploss\n",
        "            optimal_x, optimal_y = x, y\n",
        "\n",
        "    # Update particle velocities and positions\n",
        "    velocities = w * velocities + c1 * np.random.rand(2) * (pbest - particles) + c2 * np.random.rand(2) * (gbest - particles)\n",
        "    particles = particles + velocities\n",
        "\n",
        "    # Enforce boundary constraints\n",
        "    particles[:, 0] = np.clip(particles[:, 0], flow_rate_range[0], flow_rate_range[1])\n",
        "    particles[:, 1] = np.clip(particles[:, 1], flow_rate_range[0], flow_rate_range[1])\n",
        "\n",
        "print(f\"Optimal flow rate coordinates: ({optimal_x}, {optimal_y})\")\n",
        "print(f\"Minimum VRFB system power loss: {gbest} W\")\n",
        "\n",
        "# ACO Algorithm\n",
        "import numpy as np\n",
        "\n",
        "# VRFB system parameters\n",
        "num_cells = 20\n",
        "power_capacity = 1000  # 1 kW\n",
        "energy_capacity = 6000  # 6 kWh\n",
        "voltage_range = (20, 32)  # V\n",
        "max_current = 60  # A\n",
        "flow_rate_range = (3, 18)  # L/min\n",
        "\n",
        "# ACO parameters\n",
        "num_ants = 50\n",
        "num_iterations = 100\n",
        "alpha = 1  # Pheromone weight\n",
        "beta = 2  # Heuristic weight\n",
        "rho = 0.5  # Evaporation rate\n",
        "Q = 1  # Constant for pheromone update\n",
        "\n",
        "# Initialize pheromone matrix\n",
        "pheromone = np.ones((len(flow_rate_range), len(flow_rate_range), len(flow_rate_range), len(flow_rate_range)))\n",
        "\n",
        "# Objective function\n",
        "def objective_function(x, y, stack_current, SOC):\n",
        "    flow_rate = np.sqrt(x**2 + y**2)  # Calculate flow rate from x and y coordinates\n",
        "    # Calculate internal resistance, pump power, and system power loss\n",
        "    Rint = 0.126\n",
        "    Ppump = 100\n",
        "    Ploss_VRFB = stack_current**2 * Rint + Ppump\n",
        "    return Ploss_VRFB\n",
        "\n",
        "\n",
        "\n",
        "    # ACO loop\n",
        "best_solution = np.inf\n",
        "for iteration in range(num_iterations):\n",
        "    ant_solutions = []\n",
        "    for ant in range(num_ants):\n",
        "        X = np.random.choice(range(*flow_rate_range))  # Assuming X represents the flow rate\n",
        "        Y =   y = np.random.choice(range(*flow_rate_range))\n",
        "        stack_current =45\n",
        "        SOC = 0.1\n",
        "\n",
        "        Ploss = objective_function(X, Y,stack_current, SOC)\n",
        "        ant_solutions.append(((X, Y), Ploss))  # Store (X, Y) as a tuple\n",
        "\n",
        "        if Ploss < best_solution:\n",
        "            best_solution = Ploss\n",
        "            optimal_X = X\n",
        "\n",
        "    # Update pheromone matrix\n",
        "for ant_solution in ant_solutions:\n",
        "        (x, y), Ploss = ant_solution\n",
        "\n",
        "        # Ensure indices x and y fall within the bounds of the pheromone array\n",
        "        x_idx = min(max(x, 0), pheromone.shape[0] - 1)\n",
        "        y_idx = min(max(y, 0), pheromone.shape[1] - 1)\n",
        "\n",
        "        pheromone[x_idx, y_idx] += Q / Ploss  # Update the pheromone at position (x, y)\n",
        "\n",
        "    # Evaporate pheromone\n",
        "pheromone *= (1 - rho)\n",
        "#ACO implementation at 3L/min\n",
        "print(f\"Optimal X (flow rate): {optimal_X} L/min\")\n",
        "print(f\"Minimum VRFB system power loss: {best_solution} W\")\n",
        "\n",
        "\n",
        "print(f\"Optimal flow rate coordinates: ({optimal_x}, {optimal_y})\")\n",
        "print(f\"Minimum VRFB system power loss: {best_solution} W\")"
      ],
      "metadata": {
        "colab": {
          "base_uri": "https://localhost:8080/"
        },
        "id": "03yz_RAIjsjW",
        "outputId": "0f27229b-3712-4d4a-9bc8-5f9a40ca3775"
      },
      "execution_count": null,
      "outputs": [
        {
          "output_type": "stream",
          "name": "stdout",
          "text": [
            "Optimal flow rate coordinates: (14.226854179258373, 6.894533734468228)\n",
            "Minimum VRFB system power loss: 355.15 W\n",
            "Optimal X (flow rate): 6 L/min\n",
            "Minimum VRFB system power loss: 355.15 W\n",
            "Optimal flow rate coordinates: (14.226854179258373, 6.894533734468228)\n",
            "Minimum VRFB system power loss: 355.15 W\n"
          ]
        }
      ]
    }
  ]
}