{
  "cells": [
    {
      "cell_type": "markdown",
      "metadata": {
        "id": "view-in-github",
        "colab_type": "text"
      },
      "source": [
        "<a href=\"https://colab.research.google.com/github/sonakshisharan/Machine_Learning/blob/main/Linear_Regression_Logistic_Regression.ipynb\" target=\"_parent\"><img src=\"https://colab.research.google.com/assets/colab-badge.svg\" alt=\"Open In Colab\"/></a>"
      ]
    },
    {
      "cell_type": "code",
      "execution_count": null,
      "metadata": {
        "id": "3gon6uF_jSyc"
      },
      "outputs": [],
      "source": [
        "import os\n",
        "import pandas as pd\n",
        "import numpy as np\n",
        "import tensorflow as tf\n",
        "from sklearn.preprocessing import StandardScaler\n",
        "from sklearn.metrics import mean_squared_error, accuracy_score\n",
        "import matplotlib.pyplot as plt\n",
        "from sklearn.model_selection import KFold\n",
        "from sklearn.linear_model import LinearRegression, LogisticRegression\n",
        "from sklearn.model_selection import train_test_split\n",
        "from sklearn.feature_selection import SelectKBest\n",
        "from sklearn.feature_selection import f_regression"
      ]
    },
    {
      "cell_type": "code",
      "execution_count": null,
      "metadata": {
        "id": "ICdCAMzfjst_"
      },
      "outputs": [],
      "source": [
        "df = pd.read_csv(\"Admission_Predict_A3.csv\")"
      ]
    },
    {
      "cell_type": "code",
      "execution_count": null,
      "metadata": {
        "id": "HgDwm7_73g9r",
        "colab": {
          "base_uri": "https://localhost:8080/",
          "height": 300
        },
        "outputId": "e8076f5e-a2cd-42f9-89df-0dc0bfd99882"
      },
      "outputs": [
        {
          "output_type": "execute_result",
          "data": {
            "text/plain": [
              "       Serial No.   GRE Score  TOEFL Score  University Rating         SOP  \\\n",
              "count  500.000000  500.000000   500.000000         500.000000  500.000000   \n",
              "mean   250.500000  316.472000   107.192000           3.114000    3.374000   \n",
              "std    144.481833   11.295148     6.081868           1.143512    0.991004   \n",
              "min      1.000000  290.000000    92.000000           1.000000    1.000000   \n",
              "25%    125.750000  308.000000   103.000000           2.000000    2.500000   \n",
              "50%    250.500000  317.000000   107.000000           3.000000    3.500000   \n",
              "75%    375.250000  325.000000   112.000000           4.000000    4.000000   \n",
              "max    500.000000  340.000000   120.000000           5.000000    5.000000   \n",
              "\n",
              "            LOR         CGPA    Research  Chance of Admit   \n",
              "count  500.00000  500.000000  500.000000         500.00000  \n",
              "mean     3.48400    8.576440    0.560000           0.72174  \n",
              "std      0.92545    0.604813    0.496884           0.14114  \n",
              "min      1.00000    6.800000    0.000000           0.34000  \n",
              "25%      3.00000    8.127500    0.000000           0.63000  \n",
              "50%      3.50000    8.560000    1.000000           0.72000  \n",
              "75%      4.00000    9.040000    1.000000           0.82000  \n",
              "max      5.00000    9.920000    1.000000           0.97000  "
            ],
            "text/html": [
              "\n",
              "  <div id=\"df-d593397f-9f04-4afc-8591-1da3f670e8e1\" class=\"colab-df-container\">\n",
              "    <div>\n",
              "<style scoped>\n",
              "    .dataframe tbody tr th:only-of-type {\n",
              "        vertical-align: middle;\n",
              "    }\n",
              "\n",
              "    .dataframe tbody tr th {\n",
              "        vertical-align: top;\n",
              "    }\n",
              "\n",
              "    .dataframe thead th {\n",
              "        text-align: right;\n",
              "    }\n",
              "</style>\n",
              "<table border=\"1\" class=\"dataframe\">\n",
              "  <thead>\n",
              "    <tr style=\"text-align: right;\">\n",
              "      <th></th>\n",
              "      <th>Serial No.</th>\n",
              "      <th>GRE Score</th>\n",
              "      <th>TOEFL Score</th>\n",
              "      <th>University Rating</th>\n",
              "      <th>SOP</th>\n",
              "      <th>LOR</th>\n",
              "      <th>CGPA</th>\n",
              "      <th>Research</th>\n",
              "      <th>Chance of Admit</th>\n",
              "    </tr>\n",
              "  </thead>\n",
              "  <tbody>\n",
              "    <tr>\n",
              "      <th>count</th>\n",
              "      <td>500.000000</td>\n",
              "      <td>500.000000</td>\n",
              "      <td>500.000000</td>\n",
              "      <td>500.000000</td>\n",
              "      <td>500.000000</td>\n",
              "      <td>500.00000</td>\n",
              "      <td>500.000000</td>\n",
              "      <td>500.000000</td>\n",
              "      <td>500.00000</td>\n",
              "    </tr>\n",
              "    <tr>\n",
              "      <th>mean</th>\n",
              "      <td>250.500000</td>\n",
              "      <td>316.472000</td>\n",
              "      <td>107.192000</td>\n",
              "      <td>3.114000</td>\n",
              "      <td>3.374000</td>\n",
              "      <td>3.48400</td>\n",
              "      <td>8.576440</td>\n",
              "      <td>0.560000</td>\n",
              "      <td>0.72174</td>\n",
              "    </tr>\n",
              "    <tr>\n",
              "      <th>std</th>\n",
              "      <td>144.481833</td>\n",
              "      <td>11.295148</td>\n",
              "      <td>6.081868</td>\n",
              "      <td>1.143512</td>\n",
              "      <td>0.991004</td>\n",
              "      <td>0.92545</td>\n",
              "      <td>0.604813</td>\n",
              "      <td>0.496884</td>\n",
              "      <td>0.14114</td>\n",
              "    </tr>\n",
              "    <tr>\n",
              "      <th>min</th>\n",
              "      <td>1.000000</td>\n",
              "      <td>290.000000</td>\n",
              "      <td>92.000000</td>\n",
              "      <td>1.000000</td>\n",
              "      <td>1.000000</td>\n",
              "      <td>1.00000</td>\n",
              "      <td>6.800000</td>\n",
              "      <td>0.000000</td>\n",
              "      <td>0.34000</td>\n",
              "    </tr>\n",
              "    <tr>\n",
              "      <th>25%</th>\n",
              "      <td>125.750000</td>\n",
              "      <td>308.000000</td>\n",
              "      <td>103.000000</td>\n",
              "      <td>2.000000</td>\n",
              "      <td>2.500000</td>\n",
              "      <td>3.00000</td>\n",
              "      <td>8.127500</td>\n",
              "      <td>0.000000</td>\n",
              "      <td>0.63000</td>\n",
              "    </tr>\n",
              "    <tr>\n",
              "      <th>50%</th>\n",
              "      <td>250.500000</td>\n",
              "      <td>317.000000</td>\n",
              "      <td>107.000000</td>\n",
              "      <td>3.000000</td>\n",
              "      <td>3.500000</td>\n",
              "      <td>3.50000</td>\n",
              "      <td>8.560000</td>\n",
              "      <td>1.000000</td>\n",
              "      <td>0.72000</td>\n",
              "    </tr>\n",
              "    <tr>\n",
              "      <th>75%</th>\n",
              "      <td>375.250000</td>\n",
              "      <td>325.000000</td>\n",
              "      <td>112.000000</td>\n",
              "      <td>4.000000</td>\n",
              "      <td>4.000000</td>\n",
              "      <td>4.00000</td>\n",
              "      <td>9.040000</td>\n",
              "      <td>1.000000</td>\n",
              "      <td>0.82000</td>\n",
              "    </tr>\n",
              "    <tr>\n",
              "      <th>max</th>\n",
              "      <td>500.000000</td>\n",
              "      <td>340.000000</td>\n",
              "      <td>120.000000</td>\n",
              "      <td>5.000000</td>\n",
              "      <td>5.000000</td>\n",
              "      <td>5.00000</td>\n",
              "      <td>9.920000</td>\n",
              "      <td>1.000000</td>\n",
              "      <td>0.97000</td>\n",
              "    </tr>\n",
              "  </tbody>\n",
              "</table>\n",
              "</div>\n",
              "    <div class=\"colab-df-buttons\">\n",
              "\n",
              "  <div class=\"colab-df-container\">\n",
              "    <button class=\"colab-df-convert\" onclick=\"convertToInteractive('df-d593397f-9f04-4afc-8591-1da3f670e8e1')\"\n",
              "            title=\"Convert this dataframe to an interactive table.\"\n",
              "            style=\"display:none;\">\n",
              "\n",
              "  <svg xmlns=\"http://www.w3.org/2000/svg\" height=\"24px\" viewBox=\"0 -960 960 960\">\n",
              "    <path d=\"M120-120v-720h720v720H120Zm60-500h600v-160H180v160Zm220 220h160v-160H400v160Zm0 220h160v-160H400v160ZM180-400h160v-160H180v160Zm440 0h160v-160H620v160ZM180-180h160v-160H180v160Zm440 0h160v-160H620v160Z\"/>\n",
              "  </svg>\n",
              "    </button>\n",
              "\n",
              "  <style>\n",
              "    .colab-df-container {\n",
              "      display:flex;\n",
              "      gap: 12px;\n",
              "    }\n",
              "\n",
              "    .colab-df-convert {\n",
              "      background-color: #E8F0FE;\n",
              "      border: none;\n",
              "      border-radius: 50%;\n",
              "      cursor: pointer;\n",
              "      display: none;\n",
              "      fill: #1967D2;\n",
              "      height: 32px;\n",
              "      padding: 0 0 0 0;\n",
              "      width: 32px;\n",
              "    }\n",
              "\n",
              "    .colab-df-convert:hover {\n",
              "      background-color: #E2EBFA;\n",
              "      box-shadow: 0px 1px 2px rgba(60, 64, 67, 0.3), 0px 1px 3px 1px rgba(60, 64, 67, 0.15);\n",
              "      fill: #174EA6;\n",
              "    }\n",
              "\n",
              "    .colab-df-buttons div {\n",
              "      margin-bottom: 4px;\n",
              "    }\n",
              "\n",
              "    [theme=dark] .colab-df-convert {\n",
              "      background-color: #3B4455;\n",
              "      fill: #D2E3FC;\n",
              "    }\n",
              "\n",
              "    [theme=dark] .colab-df-convert:hover {\n",
              "      background-color: #434B5C;\n",
              "      box-shadow: 0px 1px 3px 1px rgba(0, 0, 0, 0.15);\n",
              "      filter: drop-shadow(0px 1px 2px rgba(0, 0, 0, 0.3));\n",
              "      fill: #FFFFFF;\n",
              "    }\n",
              "  </style>\n",
              "\n",
              "    <script>\n",
              "      const buttonEl =\n",
              "        document.querySelector('#df-d593397f-9f04-4afc-8591-1da3f670e8e1 button.colab-df-convert');\n",
              "      buttonEl.style.display =\n",
              "        google.colab.kernel.accessAllowed ? 'block' : 'none';\n",
              "\n",
              "      async function convertToInteractive(key) {\n",
              "        const element = document.querySelector('#df-d593397f-9f04-4afc-8591-1da3f670e8e1');\n",
              "        const dataTable =\n",
              "          await google.colab.kernel.invokeFunction('convertToInteractive',\n",
              "                                                    [key], {});\n",
              "        if (!dataTable) return;\n",
              "\n",
              "        const docLinkHtml = 'Like what you see? Visit the ' +\n",
              "          '<a target=\"_blank\" href=https://colab.research.google.com/notebooks/data_table.ipynb>data table notebook</a>'\n",
              "          + ' to learn more about interactive tables.';\n",
              "        element.innerHTML = '';\n",
              "        dataTable['output_type'] = 'display_data';\n",
              "        await google.colab.output.renderOutput(dataTable, element);\n",
              "        const docLink = document.createElement('div');\n",
              "        docLink.innerHTML = docLinkHtml;\n",
              "        element.appendChild(docLink);\n",
              "      }\n",
              "    </script>\n",
              "  </div>\n",
              "\n",
              "\n",
              "<div id=\"df-473e5484-ffbc-4afe-9b0c-5d5cbe8395d2\">\n",
              "  <button class=\"colab-df-quickchart\" onclick=\"quickchart('df-473e5484-ffbc-4afe-9b0c-5d5cbe8395d2')\"\n",
              "            title=\"Suggest charts\"\n",
              "            style=\"display:none;\">\n",
              "\n",
              "<svg xmlns=\"http://www.w3.org/2000/svg\" height=\"24px\"viewBox=\"0 0 24 24\"\n",
              "     width=\"24px\">\n",
              "    <g>\n",
              "        <path d=\"M19 3H5c-1.1 0-2 .9-2 2v14c0 1.1.9 2 2 2h14c1.1 0 2-.9 2-2V5c0-1.1-.9-2-2-2zM9 17H7v-7h2v7zm4 0h-2V7h2v10zm4 0h-2v-4h2v4z\"/>\n",
              "    </g>\n",
              "</svg>\n",
              "  </button>\n",
              "\n",
              "<style>\n",
              "  .colab-df-quickchart {\n",
              "      --bg-color: #E8F0FE;\n",
              "      --fill-color: #1967D2;\n",
              "      --hover-bg-color: #E2EBFA;\n",
              "      --hover-fill-color: #174EA6;\n",
              "      --disabled-fill-color: #AAA;\n",
              "      --disabled-bg-color: #DDD;\n",
              "  }\n",
              "\n",
              "  [theme=dark] .colab-df-quickchart {\n",
              "      --bg-color: #3B4455;\n",
              "      --fill-color: #D2E3FC;\n",
              "      --hover-bg-color: #434B5C;\n",
              "      --hover-fill-color: #FFFFFF;\n",
              "      --disabled-bg-color: #3B4455;\n",
              "      --disabled-fill-color: #666;\n",
              "  }\n",
              "\n",
              "  .colab-df-quickchart {\n",
              "    background-color: var(--bg-color);\n",
              "    border: none;\n",
              "    border-radius: 50%;\n",
              "    cursor: pointer;\n",
              "    display: none;\n",
              "    fill: var(--fill-color);\n",
              "    height: 32px;\n",
              "    padding: 0;\n",
              "    width: 32px;\n",
              "  }\n",
              "\n",
              "  .colab-df-quickchart:hover {\n",
              "    background-color: var(--hover-bg-color);\n",
              "    box-shadow: 0 1px 2px rgba(60, 64, 67, 0.3), 0 1px 3px 1px rgba(60, 64, 67, 0.15);\n",
              "    fill: var(--button-hover-fill-color);\n",
              "  }\n",
              "\n",
              "  .colab-df-quickchart-complete:disabled,\n",
              "  .colab-df-quickchart-complete:disabled:hover {\n",
              "    background-color: var(--disabled-bg-color);\n",
              "    fill: var(--disabled-fill-color);\n",
              "    box-shadow: none;\n",
              "  }\n",
              "\n",
              "  .colab-df-spinner {\n",
              "    border: 2px solid var(--fill-color);\n",
              "    border-color: transparent;\n",
              "    border-bottom-color: var(--fill-color);\n",
              "    animation:\n",
              "      spin 1s steps(1) infinite;\n",
              "  }\n",
              "\n",
              "  @keyframes spin {\n",
              "    0% {\n",
              "      border-color: transparent;\n",
              "      border-bottom-color: var(--fill-color);\n",
              "      border-left-color: var(--fill-color);\n",
              "    }\n",
              "    20% {\n",
              "      border-color: transparent;\n",
              "      border-left-color: var(--fill-color);\n",
              "      border-top-color: var(--fill-color);\n",
              "    }\n",
              "    30% {\n",
              "      border-color: transparent;\n",
              "      border-left-color: var(--fill-color);\n",
              "      border-top-color: var(--fill-color);\n",
              "      border-right-color: var(--fill-color);\n",
              "    }\n",
              "    40% {\n",
              "      border-color: transparent;\n",
              "      border-right-color: var(--fill-color);\n",
              "      border-top-color: var(--fill-color);\n",
              "    }\n",
              "    60% {\n",
              "      border-color: transparent;\n",
              "      border-right-color: var(--fill-color);\n",
              "    }\n",
              "    80% {\n",
              "      border-color: transparent;\n",
              "      border-right-color: var(--fill-color);\n",
              "      border-bottom-color: var(--fill-color);\n",
              "    }\n",
              "    90% {\n",
              "      border-color: transparent;\n",
              "      border-bottom-color: var(--fill-color);\n",
              "    }\n",
              "  }\n",
              "</style>\n",
              "\n",
              "  <script>\n",
              "    async function quickchart(key) {\n",
              "      const quickchartButtonEl =\n",
              "        document.querySelector('#' + key + ' button');\n",
              "      quickchartButtonEl.disabled = true;  // To prevent multiple clicks.\n",
              "      quickchartButtonEl.classList.add('colab-df-spinner');\n",
              "      try {\n",
              "        const charts = await google.colab.kernel.invokeFunction(\n",
              "            'suggestCharts', [key], {});\n",
              "      } catch (error) {\n",
              "        console.error('Error during call to suggestCharts:', error);\n",
              "      }\n",
              "      quickchartButtonEl.classList.remove('colab-df-spinner');\n",
              "      quickchartButtonEl.classList.add('colab-df-quickchart-complete');\n",
              "    }\n",
              "    (() => {\n",
              "      let quickchartButtonEl =\n",
              "        document.querySelector('#df-473e5484-ffbc-4afe-9b0c-5d5cbe8395d2 button');\n",
              "      quickchartButtonEl.style.display =\n",
              "        google.colab.kernel.accessAllowed ? 'block' : 'none';\n",
              "    })();\n",
              "  </script>\n",
              "</div>\n",
              "\n",
              "    </div>\n",
              "  </div>\n"
            ],
            "application/vnd.google.colaboratory.intrinsic+json": {
              "type": "dataframe",
              "summary": "{\n  \"name\": \"df\",\n  \"rows\": 8,\n  \"fields\": [\n    {\n      \"column\": \"Serial No.\",\n      \"properties\": {\n        \"dtype\": \"number\",\n        \"std\": 179.8977277873755,\n        \"min\": 1.0,\n        \"max\": 500.0,\n        \"num_unique_values\": 6,\n        \"samples\": [\n          500.0,\n          250.5,\n          375.25\n        ],\n        \"semantic_type\": \"\",\n        \"description\": \"\"\n      }\n    },\n    {\n      \"column\": \"GRE Score\",\n      \"properties\": {\n        \"dtype\": \"number\",\n        \"std\": 134.31959598717793,\n        \"min\": 11.2951483723547,\n        \"max\": 500.0,\n        \"num_unique_values\": 8,\n        \"samples\": [\n          316.472,\n          317.0,\n          500.0\n        ],\n        \"semantic_type\": \"\",\n        \"description\": \"\"\n      }\n    },\n    {\n      \"column\": \"TOEFL Score\",\n      \"properties\": {\n        \"dtype\": \"number\",\n        \"std\": 148.54698537663884,\n        \"min\": 6.081867659564528,\n        \"max\": 500.0,\n        \"num_unique_values\": 8,\n        \"samples\": [\n          107.192,\n          107.0,\n          500.0\n        ],\n        \"semantic_type\": \"\",\n        \"description\": \"\"\n      }\n    },\n    {\n      \"column\": \"University Rating\",\n      \"properties\": {\n        \"dtype\": \"number\",\n        \"std\": 175.8093363236959,\n        \"min\": 1.0,\n        \"max\": 500.0,\n        \"num_unique_values\": 8,\n        \"samples\": [\n          3.114,\n          3.0,\n          500.0\n        ],\n        \"semantic_type\": \"\",\n        \"description\": \"\"\n      }\n    },\n    {\n      \"column\": \"SOP\",\n      \"properties\": {\n        \"dtype\": \"number\",\n        \"std\": 175.75364204315028,\n        \"min\": 0.9910036207566072,\n        \"max\": 500.0,\n        \"num_unique_values\": 8,\n        \"samples\": [\n          3.374,\n          3.5,\n          500.0\n        ],\n        \"semantic_type\": \"\",\n        \"description\": \"\"\n      }\n    },\n    {\n      \"column\": \"LOR \",\n      \"properties\": {\n        \"dtype\": \"number\",\n        \"std\": 175.72621272918164,\n        \"min\": 0.9254495738978193,\n        \"max\": 500.0,\n        \"num_unique_values\": 8,\n        \"samples\": [\n          3.484,\n          3.5,\n          500.0\n        ],\n        \"semantic_type\": \"\",\n        \"description\": \"\"\n      }\n    },\n    {\n      \"column\": \"CGPA\",\n      \"properties\": {\n        \"dtype\": \"number\",\n        \"std\": 174.19317432229437,\n        \"min\": 0.6048128003332054,\n        \"max\": 500.0,\n        \"num_unique_values\": 8,\n        \"samples\": [\n          8.576439999999998,\n          8.56,\n          500.0\n        ],\n        \"semantic_type\": \"\",\n        \"description\": \"\"\n      }\n    },\n    {\n      \"column\": \"Research\",\n      \"properties\": {\n        \"dtype\": \"number\",\n        \"std\": 176.57228090801308,\n        \"min\": 0.0,\n        \"max\": 500.0,\n        \"num_unique_values\": 5,\n        \"samples\": [\n          0.56,\n          1.0,\n          0.49688407860903566\n        ],\n        \"semantic_type\": \"\",\n        \"description\": \"\"\n      }\n    },\n    {\n      \"column\": \"Chance of Admit \",\n      \"properties\": {\n        \"dtype\": \"number\",\n        \"std\": 176.5575452133998,\n        \"min\": 0.14114040395030228,\n        \"max\": 500.0,\n        \"num_unique_values\": 8,\n        \"samples\": [\n          0.72174,\n          0.72,\n          500.0\n        ],\n        \"semantic_type\": \"\",\n        \"description\": \"\"\n      }\n    }\n  ]\n}"
            }
          },
          "metadata": {},
          "execution_count": 300
        }
      ],
      "source": [
        "df.describe()"
      ]
    },
    {
      "cell_type": "markdown",
      "metadata": {
        "id": "veUcuVyskRXb"
      },
      "source": [
        "### Perform scaling using standard scaler"
      ]
    },
    {
      "cell_type": "code",
      "execution_count": null,
      "metadata": {
        "id": "wXlAIjXRuQq4"
      },
      "outputs": [],
      "source": [
        "scaler = StandardScaler()\n",
        "columns_to_scale = [\"GRE Score\", \"TOEFL Score\", \"University Rating\", \"SOP\", \"LOR \", \"CGPA\", \"Research\"]\n",
        "df[columns_to_scale] = scaler.fit_transform(df[columns_to_scale])"
      ]
    },
    {
      "cell_type": "code",
      "execution_count": null,
      "metadata": {
        "id": "akX5jpv_wBkj"
      },
      "outputs": [],
      "source": [
        "X_train, X_test, y_train, y_test= train_test_split(df[columns_to_scale], df[\"Chance of Admit \"], test_size=0.3,random_state=42)"
      ]
    },
    {
      "cell_type": "code",
      "execution_count": null,
      "metadata": {
        "id": "L2emjrIhvHft"
      },
      "outputs": [],
      "source": [
        "X_train_tensor = tf.constant(X_train, dtype=tf.float32)\n",
        "y_train_tensor=tf.constant(y_train.values.reshape(-1,1),dtype=tf.float32) # Reshape to (400, 1)\n",
        "# print(f\"{tf.shape(y_train_tensor)}\")\n",
        "tf.shape(X_train_tensor)\n",
        "# print(f\"{tf.shape(X_train_tensor)}\")\n",
        "X_test_tensor = tf.constant(X_test, dtype=tf.float32)\n",
        "y_test_tensor=tf.constant(y_test.values.reshape(-1,1),dtype=tf.float32) # Reshape to (400, 1)"
      ]
    },
    {
      "cell_type": "code",
      "execution_count": null,
      "metadata": {
        "id": "1UQklNfTvtEK"
      },
      "outputs": [],
      "source": [
        "# Initialize weights and bias as TensorFlow variables\n",
        "weights = tf.Variable(tf.random.normal(shape=(X_train_tensor.shape[1], 1)))\n",
        "bias = tf.Variable(tf.random.normal(shape=(1,)))"
      ]
    },
    {
      "cell_type": "code",
      "execution_count": null,
      "metadata": {
        "id": "cFU8O65sxA3S"
      },
      "outputs": [],
      "source": [
        "def linear_regression(X):\n",
        "  pred = tf.matmul(X, weights) + bias\n",
        "  pred = tf.reshape(pred, (-1, 1))  # Reshape to match y_train_tensor shape\n",
        "  return pred\n",
        "\n",
        "# Define the mean squared error loss function\n",
        "def mean_squared_error(y_true, y_pred):\n",
        "    return tf.reduce_mean(tf.square(y_true - y_pred))\n",
        "\n",
        "# Define the optimizer\n",
        "optimizer = tf.optimizers.SGD(learning_rate=0.01)\n",
        "\n",
        "# Training the linear regression model\n",
        "epochs = 1000\n",
        "for epoch in range(epochs):\n",
        "    with tf.GradientTape() as tape:\n",
        "        predictions = linear_regression(X_train_tensor)\n",
        "        loss = mean_squared_error(y_train_tensor, predictions)\n",
        "\n",
        "    gradients = tape.gradient(loss, [weights, bias])\n",
        "    optimizer.apply_gradients(zip(gradients, [weights, bias]))\n"
      ]
    },
    {
      "cell_type": "code",
      "source": [
        "# Evaluating the model\n",
        "y_pred = linear_regression(X_test_tensor)\n",
        "mse = mean_squared_error(y_test_tensor, y_pred)\n",
        "print(f\"Mean Squared Error on Test Data: {mse}\")\n",
        "accuracy_scores.append(model.evaluate(X_test, y_test)[1])\n",
        "\n",
        "# Calculate average accuracy\n",
        "average_accuracy1 = sum(accuracy_scores) / len(accuracy_scores)\n",
        "print(f\"Accuracy on Test Data: {average_accuracy1}\")\n",
        "mse1=mse"
      ],
      "metadata": {
        "colab": {
          "base_uri": "https://localhost:8080/"
        },
        "id": "SSrYN6zPXfbK",
        "outputId": "aa27e00d-f482-48b1-c53e-e49a24b489a7"
      },
      "execution_count": null,
      "outputs": [
        {
          "output_type": "stream",
          "name": "stdout",
          "text": [
            "Mean Squared Error on Test Data: 0.006204413715749979\n",
            "5/5 [==============================] - 1s 5ms/step - loss: 2.2272 - accuracy: 0.0000e+00\n",
            "Accuracy on Test Data: 0.854285717010498\n"
          ]
        }
      ]
    },
    {
      "cell_type": "code",
      "source": [
        "# Plotting actual vs predicted probabilities\n",
        "plt.scatter(y_test, y_pred.numpy(), alpha=0.7)\n",
        "plt.xlabel(\"Actual Probability\")\n",
        "plt.ylabel(\"Predicted Probability\")\n",
        "plt.title(\"Actual vs Predicted Probabilities\")\n",
        "plt.grid(True)\n",
        "plt.show()"
      ],
      "metadata": {
        "colab": {
          "base_uri": "https://localhost:8080/",
          "height": 472
        },
        "id": "oDtqV5WvUEoM",
        "outputId": "31e06764-aee8-44e1-b2d2-d67af3113a40"
      },
      "execution_count": null,
      "outputs": [
        {
          "output_type": "display_data",
          "data": {
            "text/plain": [
              "<Figure size 640x480 with 1 Axes>"
            ],
            "image/png": "[encoded data removed]"
          },
          "metadata": {}
        }
      ]
    },
    {
      "cell_type": "code",
      "execution_count": null,
      "metadata": {
        "id": "qC40O-jPuWul"
      },
      "outputs": [],
      "source": [
        "# Binning Process\n",
        "bin_edges = [0.3, 0.5, 0.7, 1.0]\n",
        "bin_labels = ['Low', 'Medium', 'High']\n",
        "df['Admit Category'] = pd.cut(df['Chance of Admit '], bins=bin_edges, labels=bin_labels, include_lowest=True)\n",
        "\n",
        "# Encode categorical labels\n",
        "label_map = {'Low': 0, 'Medium': 1, 'High': 2}\n",
        "df['Admit Category'] = df['Admit Category'].map(label_map)\n",
        "\n",
        "# Split data into features and target\n",
        "X = df.drop(['Serial No.', 'Chance of Admit ', 'Admit Category'], axis=1)\n",
        "y = df['Admit Category']\n",
        "\n",
        "# Split data into training and testing sets\n",
        "X_train, X_test, y_train, y_test = train_test_split(X, y, test_size=0.3, random_state=42)\n"
      ]
    },
    {
      "cell_type": "code",
      "source": [
        "# Define logistic regression model\n",
        "model = tf.keras.Sequential([ tf.keras.layers.Dense(3, activation='softmax')])  # 3 classes for 'Low', 'Medium', and 'High'\n",
        "\n",
        "# Compile the model\n",
        "model.compile(optimizer='sgd', loss='sparse_categorical_crossentropy', metrics=['accuracy'])"
      ],
      "metadata": {
        "id": "BWeUg6dydRIa"
      },
      "execution_count": null,
      "outputs": []
    },
    {
      "cell_type": "code",
      "source": [
        "#Train the model\n",
        "epochs = 50\n",
        "losses = []\n",
        "for epoch in range(epochs):\n",
        "    loss = model.train_on_batch(X_train, y_train)\n",
        "    losses.append(loss)\n",
        "    print(f\"Epoch {epoch + 1}/{epochs}, Loss: {loss}\")\n",
        "\n",
        "# Evaluate the model\n",
        "test_loss, test_accuracy = model.evaluate(X_test, y_test, verbose=0)\n",
        "print(f\"Test Loss: {test_loss}, Test Accuracy: {test_accuracy}\")\n",
        "accuracy=test_accuracy\n",
        "loss=test_loss"
      ],
      "metadata": {
        "colab": {
          "base_uri": "https://localhost:8080/"
        },
        "id": "bXmNrKvwdSRN",
        "outputId": "04550c8f-43bf-4064-a5b1-09c6752b532e"
      },
      "execution_count": null,
      "outputs": [
        {
          "output_type": "stream",
          "name": "stdout",
          "text": [
            "Epoch 1/50, Loss: [1.7550355195999146, 0.1371428519487381]\n",
            "Epoch 2/50, Loss: [1.7323863506317139, 0.14000000059604645]\n",
            "Epoch 3/50, Loss: [1.7101616859436035, 0.1371428519487381]\n",
            "Epoch 4/50, Loss: [1.6883615255355835, 0.14000000059604645]\n",
            "Epoch 5/50, Loss: [1.6669853925704956, 0.14571428298950195]\n",
            "Epoch 6/50, Loss: [1.6460330486297607, 0.15714286267757416]\n",
            "Epoch 7/50, Loss: [1.6255033016204834, 0.16571427881717682]\n",
            "Epoch 8/50, Loss: [1.6053946018218994, 0.17428570985794067]\n",
            "Epoch 9/50, Loss: [1.5857049226760864, 0.18000000715255737]\n",
            "Epoch 10/50, Loss: [1.5664315223693848, 0.18571428954601288]\n",
            "Epoch 11/50, Loss: [1.5475720167160034, 0.18857142329216003]\n",
            "Epoch 12/50, Loss: [1.529123067855835, 0.19428572058677673]\n",
            "Epoch 13/50, Loss: [1.5110809803009033, 0.19428572058677673]\n",
            "Epoch 14/50, Loss: [1.4934418201446533, 0.19428572058677673]\n",
            "Epoch 15/50, Loss: [1.4762012958526611, 0.20000000298023224]\n",
            "Epoch 16/50, Loss: [1.4593546390533447, 0.21142856776714325]\n",
            "Epoch 17/50, Loss: [1.4428972005844116, 0.21142856776714325]\n",
            "Epoch 18/50, Loss: [1.4268234968185425, 0.21142856776714325]\n",
            "Epoch 19/50, Loss: [1.4111281633377075, 0.2257142812013626]\n",
            "Epoch 20/50, Loss: [1.39580500125885, 0.2314285784959793]\n",
            "Epoch 21/50, Loss: [1.3808486461639404, 0.24857142567634583]\n",
            "Epoch 22/50, Loss: [1.3662526607513428, 0.25999999046325684]\n",
            "Epoch 23/50, Loss: [1.352010726928711, 0.27714285254478455]\n",
            "Epoch 24/50, Loss: [1.3381162881851196, 0.2857142984867096]\n",
            "Epoch 25/50, Loss: [1.3245630264282227, 0.28857141733169556]\n",
            "Epoch 26/50, Loss: [1.3113436698913574, 0.2971428632736206]\n",
            "Epoch 27/50, Loss: [1.2984520196914673, 0.30000001192092896]\n",
            "Epoch 28/50, Loss: [1.2858805656433105, 0.3028571307659149]\n",
            "Epoch 29/50, Loss: [1.273622989654541, 0.31142857670783997]\n",
            "Epoch 30/50, Loss: [1.261671781539917, 0.31142857670783997]\n",
            "Epoch 31/50, Loss: [1.2500202655792236, 0.3171428442001343]\n",
            "Epoch 32/50, Loss: [1.238661289215088, 0.3171428442001343]\n",
            "Epoch 33/50, Loss: [1.2275879383087158, 0.3257142901420593]\n",
            "Epoch 34/50, Loss: [1.216793417930603, 0.33142855763435364]\n",
            "Epoch 35/50, Loss: [1.206270694732666, 0.33714285492897034]\n",
            "Epoch 36/50, Loss: [1.1960129737854004, 0.3514285683631897]\n",
            "Epoch 37/50, Loss: [1.1860132217407227, 0.3628571331501007]\n",
            "Epoch 38/50, Loss: [1.1762651205062866, 0.3685714304447174]\n",
            "Epoch 39/50, Loss: [1.166761875152588, 0.37714284658432007]\n",
            "Epoch 40/50, Loss: [1.1574968099594116, 0.3799999952316284]\n",
            "Epoch 41/50, Loss: [1.1484637260437012, 0.3857142925262451]\n",
            "Epoch 42/50, Loss: [1.1396564245224, 0.4000000059604645]\n",
            "Epoch 43/50, Loss: [1.131068229675293, 0.4114285707473755]\n",
            "Epoch 44/50, Loss: [1.122693419456482, 0.41999998688697815]\n",
            "Epoch 45/50, Loss: [1.1145259141921997, 0.42571428418159485]\n",
            "Epoch 46/50, Loss: [1.1065598726272583, 0.4285714328289032]\n",
            "Epoch 47/50, Loss: [1.0987894535064697, 0.4399999976158142]\n",
            "Epoch 48/50, Loss: [1.0912095308303833, 0.44857141375541687]\n",
            "Epoch 49/50, Loss: [1.083814024925232, 0.46000000834465027]\n",
            "Epoch 50/50, Loss: [1.076598048210144, 0.46000000834465027]\n",
            "Test Loss: 1.0442125797271729, Test Accuracy: 0.5199999809265137\n"
          ]
        }
      ]
    },
    {
      "cell_type": "markdown",
      "source": [
        "Softmax in Multiclass Classification:\n",
        "\n",
        "Softmax is applied to the output layer's scores to normalize them into probabilities.\n",
        "\n",
        "Each output neuron's probability represents the predicted likelihood of the input belonging to the corresponding class.\n",
        "\n",
        "Softmax ensures a valid probability distribution where the sum of all class probabilities is 1.\n",
        "\n",
        "It enables probabilistic interpretation and comparison of predicted class probabilities."
      ],
      "metadata": {
        "id": "rzAjHWLvdP2j"
      }
    },
    {
      "cell_type": "code",
      "source": [
        "scaler = StandardScaler()\n",
        "columns_to_scale = [\"GRE Score\", \"TOEFL Score\", \"University Rating\", \"SOP\", \"LOR \", \"CGPA\", \"Research\"]\n",
        "df[columns_to_scale] = scaler.fit_transform(df[columns_to_scale])\n",
        "\n",
        "X_train, X_test, y_train, y_test= train_test_split(df[columns_to_scale], df[\"Chance of Admit \"], test_size=0.3,random_state=42)\n",
        "\n",
        "X_train_tensor = tf.constant(X_train, dtype=tf.float32)\n",
        "y_train_tensor=tf.constant(y_train.values.reshape(-1,1),dtype=tf.float32) # Reshape to (400, 1)\n",
        "# print(f\"{tf.shape(y_train_tensor)}\")\n",
        "tf.shape(X_train_tensor)\n",
        "# print(f\"{tf.shape(X_train_tensor)}\")\n",
        "X_test_tensor = tf.constant(X_test, dtype=tf.float32)\n",
        "y_test_tensor=tf.constant(y_test.values.reshape(-1,1),dtype=tf.float32) # Reshape to (400, 1)\n",
        "\n",
        "# Initialize weights and bias as TensorFlow variables\n",
        "weights = tf.Variable(tf.random.normal(shape=(X_train_tensor.shape[1], 1)))\n",
        "bias = tf.Variable(tf.random.normal(shape=(1,)))"
      ],
      "metadata": {
        "id": "A03nTLJFmMoO"
      },
      "execution_count": null,
      "outputs": []
    },
    {
      "cell_type": "code",
      "execution_count": null,
      "metadata": {
        "id": "YZ0MxMGRwAaY"
      },
      "outputs": [],
      "source": [
        "def linear_regression(X):\n",
        "  pred = tf.matmul(X, weights) + bias\n",
        "  pred = tf.reshape(pred, (-1, 1))  # Reshape to match y_train_tensor shape\n",
        "  return pred\n",
        "\n",
        "# Define the mean squared error loss function\n",
        "def mean_squared_error(y_true, y_pred):\n",
        "    return tf.reduce_mean(tf.square(y_true - y_pred))\n",
        "\n",
        "# Define the optimizer\n",
        "optimizer = tf.optimizers.SGD(learning_rate=0.01)\n",
        "\n",
        "# Training the linear regression model\n",
        "epochs = 1000\n",
        "for epoch in range(epochs):\n",
        "    with tf.GradientTape() as tape:\n",
        "        predictions = linear_regression(X_train_tensor)\n",
        "        loss = mean_squared_error(y_train_tensor, predictions)\n",
        "\n",
        "    gradients = tape.gradient(loss, [weights, bias])\n",
        "    optimizer.apply_gradients(zip(gradients, [weights, bias]))\n"
      ]
    },
    {
      "cell_type": "code",
      "source": [
        "# Evaluating the model\n",
        "y_pred = linear_regression(X_test_tensor)\n",
        "mse = mean_squared_error(y_test_tensor, y_pred)\n",
        "print(f\"Mean Squared Error on Test Data: {mse}\")\n",
        "accuracy_scores.append(model.evaluate(X_test, y_test)[1])\n",
        "\n",
        "# Calculate average accuracy\n",
        "average_accuracy1 = sum(accuracy_scores) / len(accuracy_scores)\n",
        "print(f\"Accuracy on Test Data: {average_accuracy1}\")\n",
        "mse1=mse"
      ],
      "metadata": {
        "colab": {
          "base_uri": "https://localhost:8080/"
        },
        "id": "bJjwmggqkFh3",
        "outputId": "748aa7fb-76f5-46ec-98c6-ca262e4ee53c"
      },
      "execution_count": null,
      "outputs": [
        {
          "output_type": "stream",
          "name": "stdout",
          "text": [
            "Mean Squared Error on Test Data: 0.5369917750358582\n",
            "5/5 [==============================] - 1s 9ms/step - loss: 1.4045 - accuracy: 0.0000e+00\n",
            "Accuracy on Test Data: 0.7475000023841858\n"
          ]
        }
      ]
    },
    {
      "cell_type": "markdown",
      "source": [
        "Lower Accuracy when learning rate is decreased to 0.001"
      ],
      "metadata": {
        "id": "Xmoc8SFuIUnq"
      }
    },
    {
      "cell_type": "code",
      "execution_count": null,
      "metadata": {
        "id": "y66_jy3j0QiF",
        "colab": {
          "base_uri": "https://localhost:8080/"
        },
        "outputId": "0cc5a107-3fd8-4dfa-c703-6a3b1e0b47d7"
      },
      "outputs": [
        {
          "output_type": "stream",
          "name": "stdout",
          "text": [
            "Mean Squared Error on Test Data: 0.00363421649672091\n",
            "5/5 [==============================] - 0s 3ms/step - loss: 1.4045 - accuracy: 0.0000e+00\n",
            "Accuracy on Test Data: 0.6644444465637207\n"
          ]
        }
      ],
      "source": [
        "def linear_regression(X):\n",
        "  pred = tf.matmul(X, weights) + bias\n",
        "  pred = tf.reshape(pred, (-1, 1))  # Reshape to match y_train_tensor shape\n",
        "  return pred\n",
        "\n",
        "# Define the mean squared error loss function\n",
        "def mean_squared_error(y_true, y_pred):\n",
        "    return tf.reduce_mean(tf.square(y_true - y_pred))\n",
        "\n",
        "# Define the optimizer\n",
        "optimizer = tf.optimizers.SGD(learning_rate=0.001)\n",
        "\n",
        "# Training the linear regression model\n",
        "epochs = 1000\n",
        "for epoch in range(epochs):\n",
        "    with tf.GradientTape() as tape:\n",
        "        predictions = linear_regression(X_train_tensor)\n",
        "        loss = mean_squared_error(y_train_tensor, predictions)\n",
        "\n",
        "    gradients = tape.gradient(loss, [weights, bias])\n",
        "    optimizer.apply_gradients(zip(gradients, [weights, bias]))\n",
        "\n",
        "    # Evaluating the model\n",
        "y_pred = linear_regression(X_test_tensor)\n",
        "mse = mean_squared_error(y_test_tensor, y_pred)\n",
        "print(f\"Mean Squared Error on Test Data: {mse}\")\n",
        "accuracy_scores.append(model.evaluate(X_test, y_test)[1])\n",
        "\n",
        "# Calculate average accuracy\n",
        "average_accuracy1 = sum(accuracy_scores) / len(accuracy_scores)\n",
        "print(f\"Accuracy on Test Data: {average_accuracy1}\")\n",
        "mse1=mse\n"
      ]
    },
    {
      "cell_type": "markdown",
      "metadata": {
        "id": "WUa_xvR10sWA"
      },
      "source": [
        "Losses and mse are significantly high for a low value of learning parameter (0.0001)"
      ]
    },
    {
      "cell_type": "code",
      "execution_count": null,
      "metadata": {
        "colab": {
          "base_uri": "https://localhost:8080/"
        },
        "id": "Po0V7Xl2079C",
        "outputId": "97ccd266-95e6-469b-930b-c002995c260a"
      },
      "outputs": [
        {
          "output_type": "stream",
          "name": "stdout",
          "text": [
            "Mean Squared Error on Test Data: 0.003536572214215994\n"
          ]
        }
      ],
      "source": [
        "def linear_regression(X):\n",
        "    return tf.matmul(X, weights) + bias\n",
        "\n",
        "# Define the mean squared error loss function\n",
        "def mean_squared_error(y_true, y_pred):\n",
        "    return tf.reduce_mean(tf.square(y_true - y_pred))\n",
        "\n",
        "optimizer = tf.optimizers.SGD(learning_rate=0.0001)\n",
        "\n",
        "# Training the linear regression model\n",
        "epochs = 1000\n",
        "for epoch in range(epochs):\n",
        "    with tf.GradientTape() as tape:\n",
        "        predictions = linear_regression(X_train_tensor)\n",
        "        loss = mean_squared_error(y_train_tensor, predictions)\n",
        "    gradients = tape.gradient(loss, [weights, bias])\n",
        "    optimizer.apply_gradients(zip(gradients, [weights, bias]))\n",
        "\n",
        "# Evaluating the model\n",
        "y_pred = linear_regression(X_train_tensor)\n",
        "mse = mean_squared_error(y_train_tensor, y_pred)\n",
        "print(f\"Mean Squared Error on Test Data: {mse}\")"
      ]
    },
    {
      "cell_type": "code",
      "execution_count": null,
      "metadata": {
        "colab": {
          "base_uri": "https://localhost:8080/",
          "height": 619
        },
        "id": "wSzwQfejy7HA",
        "outputId": "09892ec3-bd4c-4612-8fb1-1527026f6200"
      },
      "outputs": [
        {
          "output_type": "stream",
          "name": "stderr",
          "text": [
            "<ipython-input-316-3b8eb9b2b668>:2: FutureWarning: The default value of numeric_only in DataFrame.corr is deprecated. In a future version, it will default to False. Select only valid columns or specify the value of numeric_only to silence this warning.\n",
            "  correlation = df.corr()[\"Chance of Admit \"].drop({\"Chance of Admit \",\"Serial No.\"})\n"
          ]
        },
        {
          "output_type": "display_data",
          "data": {
            "text/plain": [
              "<Figure size 1000x600 with 1 Axes>"
            ],
            "image/png": "[encoded data removed]"
          },
          "metadata": {}
        }
      ],
      "source": [
        "# Calculate correlation coefficients\n",
        "correlation = df.corr()[\"Chance of Admit \"].drop({\"Chance of Admit \",\"Serial No.\"})\n",
        "\n",
        "# Visualize significant contributions of each feature\n",
        "plt.figure(figsize=(10, 6))\n",
        "correlation.abs().sort_values().plot(kind='barh')\n",
        "plt.title(\"Correlation Coefficients\")\n",
        "plt.xlabel(\"Absolute Correlation\")\n",
        "plt.ylabel(\"Features\")\n",
        "plt.show()\n",
        "\n"
      ]
    },
    {
      "cell_type": "code",
      "source": [
        "selector = {'CGPA', 'GRE Score', 'TOEFL Score'}"
      ],
      "metadata": {
        "id": "R6eWUG60dCDb"
      },
      "execution_count": null,
      "outputs": []
    },
    {
      "cell_type": "code",
      "source": [
        "X = df[selector]\n",
        "y = df['Chance of Admit ']\n",
        "\n",
        "# Split the data into train and test sets\n",
        "X_train, X_test, y_train, y_test = train_test_split(X, y, test_size=0.3, random_state=42)\n",
        "\n",
        "X_train_tensor = tf.constant(X_train, dtype=tf.float32)\n",
        "y_train_tensor=tf.constant(y_train.values.reshape(-1,1),dtype=tf.float32) # Reshape to (400, 1)\n",
        "# print(f\"{tf.shape(y_train_tensor)}\")\n",
        "tf.shape(X_train_tensor)\n",
        "# print(f\"{tf.shape(X_train_tensor)}\")\n",
        "X_test_tensor = tf.constant(X_test, dtype=tf.float32)\n",
        "y_test_tensor=tf.constant(y_test.values.reshape(-1,1),dtype=tf.float32) # Reshape to (400, 1)\n",
        "\n",
        "weights = tf.Variable(tf.random.normal(shape=(X_train_tensor.shape[1], 1)))\n",
        "bias = tf.Variable(tf.random.normal(shape=(1,)))\n",
        "\n",
        "# Define the optimizer\n",
        "optimizer = tf.optimizers.SGD(learning_rate=0.01)\n",
        "\n",
        "# Training the linear regression model\n",
        "epochs = 1000\n",
        "for epoch in range(epochs):\n",
        "    with tf.GradientTape() as tape:\n",
        "        predictions = linear_regression(X_train_tensor)\n",
        "        loss = mean_squared_error(y_train_tensor, predictions)\n",
        "\n",
        "    gradients = tape.gradient(loss, [weights, bias])\n",
        "    optimizer.apply_gradients(zip(gradients, [weights, bias]))\n",
        "\n",
        "# Evaluating the model\n",
        "y_pred = linear_regression(X_test_tensor)\n",
        "mse = mean_squared_error(y_test_tensor, y_pred)\n",
        "print(f\"Mean Squared Error on Test Data: {mse}\")\n",
        "mse2=mse\n",
        "\n",
        "if mse1 > mse2:\n",
        "    print(\"Performance improved after feature selection.\")\n",
        "elif mse1 == mse2:\n",
        "    print(\"Performance remained consistent after feature selection.\")\n",
        "else:\n",
        "    print(\"Performance declined after feature selection.\")"
      ],
      "metadata": {
        "colab": {
          "base_uri": "https://localhost:8080/"
        },
        "id": "LtJrvN_LcbEw",
        "outputId": "cc54bcbf-c9a3-4f05-8832-af28ed1710bd"
      },
      "execution_count": null,
      "outputs": [
        {
          "output_type": "stream",
          "name": "stdout",
          "text": [
            "Mean Squared Error on Test Data: 0.0043416996486485004\n",
            "Performance declined after feature selection.\n"
          ]
        }
      ]
    },
    {
      "source": [
        "# Import necessary libraries\n",
        "from sklearn.model_selection import KFold\n",
        "from sklearn.linear_model import LinearRegression, LogisticRegression\n",
        "from sklearn.model_selection import cross_val_score\n",
        "\n",
        "# Define the dataset (X, y)\n",
        "X=df[columns_to_scale]\n",
        "y=df['Chance of Admit ']\n",
        "\n",
        "y = pd.Categorical(y).codes\n",
        "\n",
        "# Split the data into k folds\n",
        "kf = KFold(n_splits=5)"
      ],
      "cell_type": "code",
      "metadata": {
        "id": "d1Fc0VH17Afw"
      },
      "execution_count": null,
      "outputs": []
    },
    {
      "source": [
        "# Initialize lists to store results\n",
        "linear_regression_scores = []\n",
        "logistic_regression_scores = []\n",
        "\n",
        "\n",
        "\n",
        "# Iterate through each fold\n",
        "for train_index, test_index in kf.split(X):\n",
        "    # Split data into training and testing sets\n",
        "    X_train, X_test = X.iloc[train_index], X.iloc[test_index]\n",
        "    y = pd.Series(y)\n",
        "    y_train, y_test = y.iloc[train_index], y.iloc[test_index]\n",
        "\n",
        "    # Train and evaluate linear regression\n",
        "    linear_regression = LinearRegression()\n",
        "    linear_regression.fit(X_train, y_train)\n",
        "    linear_regression_scores.append(linear_regression.score(X_test, y_test))\n",
        "\n",
        "\n",
        "    # Train and evaluate logistic regression\n",
        "    logistic_regression = LogisticRegression()\n",
        "    logistic_regression.fit(X_train, y_train)\n",
        "    logistic_regression_scores.append(logistic_regression.score(X_test, y_test))"
      ],
      "cell_type": "code",
      "metadata": {
        "id": "T4p5tmUW-QQj"
      },
      "execution_count": null,
      "outputs": []
    },
    {
      "cell_type": "code",
      "source": [
        "# Calculate average scores\n",
        "average_linear_regression_score = sum(linear_regression_scores) / len(linear_regression_scores)\n",
        "average_logistic_regression_score = sum(logistic_regression_scores) / len(logistic_regression_scores)\n",
        "\n",
        "# Print results\n",
        "print(\"Average Linear Regression Score:\", average_linear_regression_score)\n",
        "print(\"Average Logistic Regression Score:\", average_logistic_regression_score)\n",
        "\n",
        "# Compare the average scores to determine the more effective model"
      ],
      "metadata": {
        "colab": {
          "base_uri": "https://localhost:8080/"
        },
        "id": "c2TY5x7M-Tkm",
        "outputId": "76660d84-ef5c-49a8-db19-09c5a1f3bd80"
      },
      "execution_count": null,
      "outputs": [
        {
          "output_type": "stream",
          "name": "stdout",
          "text": [
            "Average Linear Regression Score: 0.8137363666462349\n",
            "Average Logistic Regression Score: 0.076\n"
          ]
        }
      ]
    },
    {
      "source": [
        "# Define the dataset (X, y)\n",
        "\n",
        "# Convert target variable to binary values\n",
        "y_binary = tf.cast(y > 0.5, tf.float32)\n",
        "\n",
        "# Define the model\n",
        "model = tf.keras.Sequential([tf.keras.layers.Dense(1, activation='sigmoid', input_shape=(X.shape[1],))])\n",
        "\n",
        "# Compile the model\n",
        "model.compile(optimizer='adam', loss='binary_crossentropy', metrics=['accuracy'])\n",
        "\n",
        "# Perform k-fold cross-validation\n",
        "kf = KFold(n_splits=5)\n",
        "accuracy_scores = []\n",
        "\n",
        "for train_index, test_index in kf.split(X):\n",
        "    # Split data into training and testing sets\n",
        "    X_train, X_test = X.iloc[train_index], X.iloc[test_index]\n",
        "\n",
        "    # Convert y_binary to NumPy arrays\n",
        "    y_train = y_binary.numpy()[train_index]\n",
        "    y_test = y_binary.numpy()[test_index]\n",
        "\n",
        "    # Train the model\n",
        "    model.fit(X_train, y_train, epochs=100, verbose=0)\n",
        "\n",
        "    # Evaluate the model on the test set\n",
        "    accuracy_scores.append(model.evaluate(X_test, y_test)[1])\n",
        "\n",
        "# Calculate average accuracy\n",
        "average_accuracy = sum(accuracy_scores) / len(accuracy_scores)\n",
        "print(f\"Accuracy with Logistic Regression : {average_accuracy}\")\n",
        "print(f\"Accuracy with Linear Regression : {average_accuracy1}\")\n",
        "\n",
        "\n",
        "# Compare accuracy with linear regression model\n",
        "# (Assuming you have already calculated the average accuracy for the linear regression model)\n",
        "if average_accuracy > average_accuracy1:\n",
        "    print(\"Logistic regression model is better.\")\n",
        "else:\n",
        "    print(\"Linear regression model is better.\")\n"
      ],
      "cell_type": "code",
      "metadata": {
        "colab": {
          "base_uri": "https://localhost:8080/"
        },
        "id": "M0boR8hiAfZo",
        "outputId": "231e3551-4cc6-4f95-f075-4becc6129ff5"
      },
      "execution_count": null,
      "outputs": [
        {
          "output_type": "stream",
          "name": "stdout",
          "text": [
            "4/4 [==============================] - 0s 11ms/step - loss: 0.3161 - accuracy: 0.9900\n",
            "4/4 [==============================] - 0s 8ms/step - loss: 0.1361 - accuracy: 1.0000\n",
            "4/4 [==============================] - 0s 6ms/step - loss: 0.0727 - accuracy: 1.0000\n",
            "4/4 [==============================] - 0s 5ms/step - loss: 0.0699 - accuracy: 0.9900\n",
            "4/4 [==============================] - 0s 3ms/step - loss: 0.0251 - accuracy: 1.0000\n",
            "Accuracy with Logistic Regression : 0.9960000038146972\n",
            "Accuracy with Linear Regression : 0.6644444465637207\n",
            "Logistic regression model is better.\n"
          ]
        }
      ]
    },
    {
      "cell_type": "markdown",
      "source": [
        "for epochs=1000 (hyperparameter change)"
      ],
      "metadata": {
        "id": "eKo6IVR8ExzV"
      }
    },
    {
      "cell_type": "code",
      "source": [
        "# Define the dataset (X, y)\n",
        "\n",
        "# Convert target variable to binary values\n",
        "y_binary = tf.cast(y > 0.5, tf.float32)\n",
        "\n",
        "# Define the model\n",
        "model = tf.keras.Sequential([tf.keras.layers.Dense(1, activation='sigmoid', input_shape=(X.shape[1],))])\n",
        "\n",
        "# Compile the model\n",
        "model.compile(optimizer='adam', loss='binary_crossentropy', metrics=['accuracy'])\n",
        "\n",
        "# Perform k-fold cross-validation\n",
        "kf = KFold(n_splits=5)\n",
        "accuracy_scores = []\n",
        "\n",
        "for train_index, test_index in kf.split(X):\n",
        "    # Split data into training and testing sets\n",
        "    X_train, X_test = X.iloc[train_index], X.iloc[test_index]\n",
        "\n",
        "    # Convert y_binary to NumPy arrays\n",
        "    y_train = y_binary.numpy()[train_index]\n",
        "    y_test = y_binary.numpy()[test_index]\n",
        "\n",
        "    # Train the model\n",
        "    model.fit(X_train, y_train, epochs=1000, verbose=0)\n",
        "\n",
        "    # Evaluate the model on the test set\n",
        "    accuracy_scores.append(model.evaluate(X_test, y_test)[1])\n",
        "\n",
        "# Calculate average accuracy\n",
        "average_accuracy = sum(accuracy_scores) / len(accuracy_scores)\n",
        "print(f\"Accuracy with Logistic Regression : {average_accuracy}\")\n",
        "print(f\"Accuracy with Linear Regression : {average_accuracy1}\")\n",
        "\n",
        "\n",
        "# Compare accuracy with linear regression model\n",
        "# (Assuming you have already calculated the average accuracy for the linear regression model)\n",
        "if average_accuracy > average_accuracy1:\n",
        "    print(\"Logistic regression model is better.\")\n",
        "else:\n",
        "    print(\"Linear regression model is better.\")\n"
      ],
      "metadata": {
        "colab": {
          "base_uri": "https://localhost:8080/"
        },
        "id": "orTBCIM9APoe",
        "outputId": "94032ab2-77ac-4487-ad63-c5e97b9ba03e"
      },
      "execution_count": null,
      "outputs": [
        {
          "output_type": "stream",
          "name": "stdout",
          "text": [
            "4/4 [==============================] - 0s 4ms/step - loss: 0.0461 - accuracy: 0.9900\n",
            "4/4 [==============================] - 0s 4ms/step - loss: 0.0030 - accuracy: 1.0000\n"
          ]
        }
      ]
    }
  ],
  "metadata": {
    "colab": {
      "provenance": [],
      "include_colab_link": true
    },
    "kernelspec": {
      "display_name": "Python 3",
      "name": "python3"
    },
    "language_info": {
      "name": "python"
    }
  },
  "nbformat": 4,
  "nbformat_minor": 0
}